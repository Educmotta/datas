{
  "nbformat": 4,
  "nbformat_minor": 0,
  "metadata": {
    "colab": {
      "name": "Analise.ipynb",
      "provenance": [],
      "collapsed_sections": [],
      "mount_file_id": "1Y9uVMqYAXr6eSoSfnTtF0RBcYQlMr0LQ",
      "authorship_tag": "ABX9TyP+zAjdk5CxwvY2y97Q5SBC",
      "include_colab_link": true
    },
    "kernelspec": {
      "name": "python3",
      "display_name": "Python 3"
    }
  },
  "cells": [
    {
      "cell_type": "markdown",
      "metadata": {
        "id": "view-in-github",
        "colab_type": "text"
      },
      "source": [
        "<a href=\"https://colab.research.google.com/github/Taaaaaar/data-science/blob/main/Analise.ipynb\" target=\"_parent\"><img src=\"https://colab.research.google.com/assets/colab-badge.svg\" alt=\"Open In Colab\"/></a>"
      ]
    },
    {
      "cell_type": "markdown",
      "metadata": {
        "id": "YxN4uhD5IQxS"
      },
      "source": [
        "# **Análise de dados**\r\n",
        "\r\n",
        "Seu chefe, após olhar os resultados do trimestre, não consegue\r\n",
        "entender os motivos para os clientes do cartão de crédito\r\n",
        "estarem cancelando seus cartões.\r\n",
        "\r\n",
        "Sem te dar nenhum direcionamento, ele pede que você faça\r\n",
        "uma análise que possa ajudá-lo a entender/resolver o problema.\r\n",
        "A única informação que você tem é um arquivo .csv extraído do\r\n",
        "sistema da empresa"
      ]
    },
    {
      "cell_type": "code",
      "metadata": {
        "id": "n54ufgr4EMzD"
      },
      "source": [
        "import pandas as pd"
      ],
      "execution_count": null,
      "outputs": []
    },
    {
      "cell_type": "code",
      "metadata": {
        "id": "poDF8Mk6IQXU"
      },
      "source": [
        "clientes_df = pd.read_csv('/content/drive/MyDrive/Colab Notebooks/Projetos/2 - Análise de Dados/ClientesBanco.csv', encoding = 'latin1')\r\n",
        "clientes_df = clientes_df.drop('CLIENTNUM', axis=1) # Essa coluna não me ajuda em nada\r\n",
        "display(clientes_df)"
      ],
      "execution_count": null,
      "outputs": []
    },
    {
      "cell_type": "code",
      "metadata": {
        "colab": {
          "base_uri": "https://localhost:8080/",
          "height": 827
        },
        "id": "3oqWTwfOLGt8",
        "outputId": "2e726620-2721-4717-e22a-c37dc7ae3ce6"
      },
      "source": [
        "clientes_df = clientes_df.dropna()\r\n",
        "display(clientes_df.info())\r\n",
        "display(clientes_df.describe())"
      ],
      "execution_count": null,
      "outputs": [
        {
          "output_type": "stream",
          "text": [
            "<class 'pandas.core.frame.DataFrame'>\n",
            "Int64Index: 10126 entries, 0 to 10126\n",
            "Data columns (total 20 columns):\n",
            " #   Column                         Non-Null Count  Dtype  \n",
            "---  ------                         --------------  -----  \n",
            " 0   Categoria                      10126 non-null  object \n",
            " 1   Idade                          10126 non-null  int64  \n",
            " 2   Sexo                           10126 non-null  object \n",
            " 3   Dependentes                    10126 non-null  int64  \n",
            " 4   Educação                       10126 non-null  object \n",
            " 5   Estado Civil                   10126 non-null  object \n",
            " 6   Faixa Salarial Anual           10126 non-null  object \n",
            " 7   Categoria Cartão               10126 non-null  object \n",
            " 8   Meses como Cliente             10126 non-null  int64  \n",
            " 9   Produtos Contratados           10126 non-null  int64  \n",
            " 10  Inatividade 12m                10126 non-null  int64  \n",
            " 11  Contatos 12m                   10126 non-null  int64  \n",
            " 12  Limite                         10126 non-null  float64\n",
            " 13  Limite Consumido               10126 non-null  int64  \n",
            " 14  Limite Disponível              10126 non-null  float64\n",
            " 15  Mudanças Transacoes_Q4_Q1      10126 non-null  float64\n",
            " 16  Valor Transacoes 12m           10126 non-null  int64  \n",
            " 17  Qtde Transacoes 12m            10126 non-null  int64  \n",
            " 18  Mudança Qtde Transações_Q4_Q1  10126 non-null  float64\n",
            " 19  Taxa de Utilização Cartão      10126 non-null  float64\n",
            "dtypes: float64(5), int64(9), object(6)\n",
            "memory usage: 1.6+ MB\n"
          ],
          "name": "stdout"
        },
        {
          "output_type": "display_data",
          "data": {
            "text/plain": [
              "None"
            ]
          },
          "metadata": {
            "tags": []
          }
        },
        {
          "output_type": "display_data",
          "data": {
            "text/html": [
              "<div>\n",
              "<style scoped>\n",
              "    .dataframe tbody tr th:only-of-type {\n",
              "        vertical-align: middle;\n",
              "    }\n",
              "\n",
              "    .dataframe tbody tr th {\n",
              "        vertical-align: top;\n",
              "    }\n",
              "\n",
              "    .dataframe thead th {\n",
              "        text-align: right;\n",
              "    }\n",
              "</style>\n",
              "<table border=\"1\" class=\"dataframe\">\n",
              "  <thead>\n",
              "    <tr style=\"text-align: right;\">\n",
              "      <th></th>\n",
              "      <th>Idade</th>\n",
              "      <th>Dependentes</th>\n",
              "      <th>Meses como Cliente</th>\n",
              "      <th>Produtos Contratados</th>\n",
              "      <th>Inatividade 12m</th>\n",
              "      <th>Contatos 12m</th>\n",
              "      <th>Limite</th>\n",
              "      <th>Limite Consumido</th>\n",
              "      <th>Limite Disponível</th>\n",
              "      <th>Mudanças Transacoes_Q4_Q1</th>\n",
              "      <th>Valor Transacoes 12m</th>\n",
              "      <th>Qtde Transacoes 12m</th>\n",
              "      <th>Mudança Qtde Transações_Q4_Q1</th>\n",
              "      <th>Taxa de Utilização Cartão</th>\n",
              "    </tr>\n",
              "  </thead>\n",
              "  <tbody>\n",
              "    <tr>\n",
              "      <th>count</th>\n",
              "      <td>10126.000000</td>\n",
              "      <td>10126.000000</td>\n",
              "      <td>10126.000000</td>\n",
              "      <td>10126.000000</td>\n",
              "      <td>10126.000000</td>\n",
              "      <td>10126.000000</td>\n",
              "      <td>10126.000000</td>\n",
              "      <td>10126.000000</td>\n",
              "      <td>10126.000000</td>\n",
              "      <td>10126.000000</td>\n",
              "      <td>10126.000000</td>\n",
              "      <td>10126.000000</td>\n",
              "      <td>10126.000000</td>\n",
              "      <td>10126.000000</td>\n",
              "    </tr>\n",
              "    <tr>\n",
              "      <th>mean</th>\n",
              "      <td>46.327079</td>\n",
              "      <td>2.346139</td>\n",
              "      <td>35.928995</td>\n",
              "      <td>3.812463</td>\n",
              "      <td>2.341300</td>\n",
              "      <td>2.455264</td>\n",
              "      <td>8631.962088</td>\n",
              "      <td>1162.764369</td>\n",
              "      <td>7469.197719</td>\n",
              "      <td>108.713167</td>\n",
              "      <td>4404.391764</td>\n",
              "      <td>64.861841</td>\n",
              "      <td>66.579995</td>\n",
              "      <td>0.274901</td>\n",
              "    </tr>\n",
              "    <tr>\n",
              "      <th>std</th>\n",
              "      <td>8.016420</td>\n",
              "      <td>1.298956</td>\n",
              "      <td>7.986593</td>\n",
              "      <td>1.554440</td>\n",
              "      <td>1.010584</td>\n",
              "      <td>1.106267</td>\n",
              "      <td>9089.225428</td>\n",
              "      <td>815.012238</td>\n",
              "      <td>9091.132356</td>\n",
              "      <td>353.912795</td>\n",
              "      <td>3397.157925</td>\n",
              "      <td>23.471594</td>\n",
              "      <td>284.001363</td>\n",
              "      <td>0.275704</td>\n",
              "    </tr>\n",
              "    <tr>\n",
              "      <th>min</th>\n",
              "      <td>26.000000</td>\n",
              "      <td>0.000000</td>\n",
              "      <td>13.000000</td>\n",
              "      <td>1.000000</td>\n",
              "      <td>0.000000</td>\n",
              "      <td>0.000000</td>\n",
              "      <td>1438.300000</td>\n",
              "      <td>0.000000</td>\n",
              "      <td>3.000000</td>\n",
              "      <td>0.000000</td>\n",
              "      <td>510.000000</td>\n",
              "      <td>10.000000</td>\n",
              "      <td>0.000000</td>\n",
              "      <td>0.000000</td>\n",
              "    </tr>\n",
              "    <tr>\n",
              "      <th>25%</th>\n",
              "      <td>41.000000</td>\n",
              "      <td>1.000000</td>\n",
              "      <td>31.000000</td>\n",
              "      <td>3.000000</td>\n",
              "      <td>2.000000</td>\n",
              "      <td>2.000000</td>\n",
              "      <td>2555.000000</td>\n",
              "      <td>358.000000</td>\n",
              "      <td>1324.250000</td>\n",
              "      <td>0.631000</td>\n",
              "      <td>2156.000000</td>\n",
              "      <td>45.000000</td>\n",
              "      <td>0.582000</td>\n",
              "      <td>0.023000</td>\n",
              "    </tr>\n",
              "    <tr>\n",
              "      <th>50%</th>\n",
              "      <td>46.000000</td>\n",
              "      <td>2.000000</td>\n",
              "      <td>36.000000</td>\n",
              "      <td>4.000000</td>\n",
              "      <td>2.000000</td>\n",
              "      <td>2.000000</td>\n",
              "      <td>4549.000000</td>\n",
              "      <td>1276.000000</td>\n",
              "      <td>3473.000000</td>\n",
              "      <td>0.736000</td>\n",
              "      <td>3899.500000</td>\n",
              "      <td>67.000000</td>\n",
              "      <td>0.702000</td>\n",
              "      <td>0.175500</td>\n",
              "    </tr>\n",
              "    <tr>\n",
              "      <th>75%</th>\n",
              "      <td>52.000000</td>\n",
              "      <td>3.000000</td>\n",
              "      <td>40.000000</td>\n",
              "      <td>5.000000</td>\n",
              "      <td>3.000000</td>\n",
              "      <td>3.000000</td>\n",
              "      <td>11067.750000</td>\n",
              "      <td>1784.000000</td>\n",
              "      <td>9860.000000</td>\n",
              "      <td>0.859000</td>\n",
              "      <td>4741.000000</td>\n",
              "      <td>81.000000</td>\n",
              "      <td>0.818000</td>\n",
              "      <td>0.503000</td>\n",
              "    </tr>\n",
              "    <tr>\n",
              "      <th>max</th>\n",
              "      <td>73.000000</td>\n",
              "      <td>5.000000</td>\n",
              "      <td>56.000000</td>\n",
              "      <td>6.000000</td>\n",
              "      <td>6.000000</td>\n",
              "      <td>6.000000</td>\n",
              "      <td>34516.000000</td>\n",
              "      <td>2517.000000</td>\n",
              "      <td>34516.000000</td>\n",
              "      <td>3397.000000</td>\n",
              "      <td>18484.000000</td>\n",
              "      <td>139.000000</td>\n",
              "      <td>3714.000000</td>\n",
              "      <td>0.999000</td>\n",
              "    </tr>\n",
              "  </tbody>\n",
              "</table>\n",
              "</div>"
            ],
            "text/plain": [
              "              Idade  ...  Taxa de Utilização Cartão\n",
              "count  10126.000000  ...               10126.000000\n",
              "mean      46.327079  ...                   0.274901\n",
              "std        8.016420  ...                   0.275704\n",
              "min       26.000000  ...                   0.000000\n",
              "25%       41.000000  ...                   0.023000\n",
              "50%       46.000000  ...                   0.175500\n",
              "75%       52.000000  ...                   0.503000\n",
              "max       73.000000  ...                   0.999000\n",
              "\n",
              "[8 rows x 14 columns]"
            ]
          },
          "metadata": {
            "tags": []
          }
        }
      ]
    },
    {
      "cell_type": "code",
      "metadata": {
        "colab": {
          "base_uri": "https://localhost:8080/",
          "height": 119
        },
        "id": "S2-jwo2BMvr6",
        "outputId": "3dfa3c50-103e-4019-96bb-7bcdc29dd0cb"
      },
      "source": [
        "#Determinando a quantidade e porcentagens de clientes e cancelamentos\r\n",
        "display(clientes_df['Categoria'].value_counts())\r\n",
        "display(clientes_df['Categoria'].value_counts(normalize=True))"
      ],
      "execution_count": null,
      "outputs": [
        {
          "output_type": "display_data",
          "data": {
            "text/plain": [
              "Cliente      8499\n",
              "Cancelado    1627\n",
              "Name: Categoria, dtype: int64"
            ]
          },
          "metadata": {
            "tags": []
          }
        },
        {
          "output_type": "display_data",
          "data": {
            "text/plain": [
              "Cliente      0.839325\n",
              "Cancelado    0.160675\n",
              "Name: Categoria, dtype: float64"
            ]
          },
          "metadata": {
            "tags": []
          }
        }
      ]
    },
    {
      "cell_type": "markdown",
      "metadata": {
        "id": "5_2peMlDNjrw"
      },
      "source": [
        "## Faremos uma análise gráfico categoria a categoria de modo a mapear todas as possíveis causas desses cancelamentos."
      ]
    },
    {
      "cell_type": "code",
      "metadata": {
        "id": "zMXeJwf8NwmY"
      },
      "source": [
        "import plotly.express as px\r\n",
        "\r\n",
        "def grafico_coluna_categoria(coluna, tabela):\r\n",
        "  fig = px.histogram(tabela, x=coluna, color='Categoria')\r\n",
        "  fig.show()"
      ],
      "execution_count": null,
      "outputs": []
    },
    {
      "cell_type": "code",
      "metadata": {
        "id": "BjY5ExHPP9mw"
      },
      "source": [
        "# Gera todos gráficos de clientes/cancelamentos em função da categoria\r\n",
        "for coluna in clientes_df:\r\n",
        "  grafico_coluna_categoria(coluna, clientes_df)"
      ],
      "execution_count": null,
      "outputs": []
    },
    {
      "cell_type": "markdown",
      "metadata": {
        "id": "efkXpp_KQq3-"
      },
      "source": [
        "A partir da leitura dos gráficos podemos perceber alguns pontos a serem estudados de modo mais aprofundado. Por exemplo, quando analisamos a quantidade de transações podemos perceber que a maioria dos cancelamentos se dá com clientes que fizeram poucas transações. A lib plotly é sensacional para criação de gráficos vou deixar o link do site para futuras consultas: https://plotly.com/\r\n",
        "\r\n",
        "![newplot.png](data:image/png;base64,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)"
      ]
    }
  ]
}